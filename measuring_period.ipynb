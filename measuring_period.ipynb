{
  "nbformat": 4,
  "nbformat_minor": 0,
  "metadata": {
    "colab": {
      "name": "measuring_period.ipynb",
      "provenance": [],
      "collapsed_sections": [],
      "authorship_tag": "ABX9TyOQ8TN4EMyh68xIThan5UM5",
      "include_colab_link": true
    },
    "kernelspec": {
      "name": "python3",
      "display_name": "Python 3"
    },
    "language_info": {
      "name": "python"
    }
  },
  "cells": [
    {
      "cell_type": "markdown",
      "metadata": {
        "id": "view-in-github",
        "colab_type": "text"
      },
      "source": [
        "<a href=\"https://colab.research.google.com/github/multiopti/MYWAI/blob/main/measuring_period.ipynb\" target=\"_parent\"><img src=\"https://colab.research.google.com/assets/colab-badge.svg\" alt=\"Open In Colab\"/></a>"
      ]
    },
    {
      "cell_type": "code",
      "execution_count": 1,
      "metadata": {
        "colab": {
          "base_uri": "https://localhost:8080/",
          "height": 87
        },
        "id": "tsNOzP47Oloy",
        "outputId": "66867599-96dc-4098-a587-bd833c84f080"
      },
      "outputs": [
        {
          "output_type": "stream",
          "name": "stdout",
          "text": [
            "Looking in indexes: https://pypi.org/simple, https://us-python.pkg.dev/colab-wheels/public/simple/\n",
            "Requirement already satisfied: wget in /usr/local/lib/python3.7/dist-packages (3.2)\n",
            "Beginning file download with wget module\n"
          ]
        },
        {
          "output_type": "execute_result",
          "data": {
            "text/plain": [
              "'.//normal (1).zip'"
            ],
            "application/vnd.google.colaboratory.intrinsic+json": {
              "type": "string"
            }
          },
          "metadata": {},
          "execution_count": 1
        }
      ],
      "source": [
        "import numpy as np\n",
        "import sys\n",
        "import os\n",
        "!{sys.executable} -m pip install wget\n",
        "import wget\n",
        "from scipy import signal\n",
        "from scipy.signal import find_peaks\n",
        "import matplotlib.pyplot as plt\n",
        "\n",
        "print('Beginning file download with wget module')\n",
        "\n",
        "#downloading Mafaulda database, normal samples\n",
        "url = 'http://www02.smt.ufrj.br/~offshore/mfs/database/mafaulda/normal.zip'\n",
        "wget.download(url, './')\n",
        "\n"
      ]
    },
    {
      "cell_type": "code",
      "source": [
        "from zipfile import ZipFile\n",
        "# Create a ZipFile Object and load sample.zip in it\n",
        "with ZipFile('normal.zip', 'r') as zipObj:\n",
        "   # Extract all the contents of zip file in current directory\n",
        "   zipObj.extractall()\n",
        "    "
      ],
      "metadata": {
        "id": "AKEU_iszWNVG"
      },
      "execution_count": 2,
      "outputs": []
    },
    {
      "cell_type": "code",
      "source": [
        "for i in os.listdir('./'):\n",
        "    print(i)"
      ],
      "metadata": {
        "colab": {
          "base_uri": "https://localhost:8080/"
        },
        "id": "ieMa96HBUZEn",
        "outputId": "907e40d2-8988-4c20-c9fe-38f9a7665f73"
      },
      "execution_count": 3,
      "outputs": [
        {
          "output_type": "stream",
          "name": "stdout",
          "text": [
            ".config\n",
            "normal\n",
            "normal.zip\n",
            "normal (1).zip\n",
            "sample_data\n"
          ]
        }
      ]
    },
    {
      "cell_type": "code",
      "source": [
        "filename = './normal/61.44.csv'\n",
        "Fs = 50000\n",
        "\n",
        "x = np.genfromtxt(filename,delimiter=',')\n",
        "#select signal\n",
        "x = x[:,0]\n",
        "# remove DC component\n",
        "x = x - np.mean(x)\n",
        "\n",
        "if len(x) % 2 != 0:\n",
        "  x = x[:-1]\n",
        "Nsam = len(x)\n",
        "t = np.arange(Nsam)\n",
        "t = (1/Fs)*t\n",
        "plt.plot(t[0:2500],x[0:2500])\n",
        "plt.show()\n",
        "\n"
      ],
      "metadata": {
        "colab": {
          "base_uri": "https://localhost:8080/",
          "height": 266
        },
        "id": "8se-Fw9dQaNe",
        "outputId": "ceb18dfc-99cb-4073-ff93-004ac4a6bbb4"
      },
      "execution_count": 4,
      "outputs": [
        {
          "output_type": "display_data",
          "data": {
            "text/plain": [
              "<Figure size 432x288 with 1 Axes>"
            ],
            "image/png": "[encoded data removed]"
          },
          "metadata": {
            "needs_background": "light"
          }
        }
      ]
    },
    {
      "cell_type": "code",
      "source": [
        "# apply window\n",
        "\n",
        "w = signal.get_window('hamming', Nsam)\n",
        "x = np.multiply(x,w)\n",
        "\n",
        "# FFT \n",
        "X = np.fft.fft(x)\n",
        "Xn = np.sqrt(X.real*X.real + X.imag*X.imag)\n",
        "xf = np.fft.fftfreq(Nsam, 1/Fs)\n",
        "        \n",
        "Xn = Xn[0:Nsam//2]\n",
        "Xn = (2/Nsam)*Xn\n",
        "xf = xf[0:Nsam//2]\n",
        "\n",
        "peaks, _ = find_peaks(Xn[0:5000],height=0.01,distance=50 )\n",
        "\n",
        "plt.plot(xf[0:5000],Xn[0:5000])\n",
        "plt.plot(xf[peaks], Xn[peaks], \"x\")\n",
        "plt.show()"
      ],
      "metadata": {
        "colab": {
          "base_uri": "https://localhost:8080/",
          "height": 265
        },
        "id": "4umLtl5LXwc0",
        "outputId": "ce6ade70-e9b8-4725-ab5f-05e054322b4b"
      },
      "execution_count": 5,
      "outputs": [
        {
          "output_type": "display_data",
          "data": {
            "text/plain": [
              "<Figure size 432x288 with 1 Axes>"
            ],
            "image/png": "[encoded data removed]"
          },
          "metadata": {
            "needs_background": "light"
          }
        }
      ]
    },
    {
      "cell_type": "code",
      "source": [
        "print('Period(ms) is approx: ',1000/xf[peaks][0])"
      ],
      "metadata": {
        "colab": {
          "base_uri": "https://localhost:8080/"
        },
        "id": "YqjipkbDhWxn",
        "outputId": "9c63b0ba-4e98-4cd4-8430-62ef9a19092f"
      },
      "execution_count": 6,
      "outputs": [
        {
          "output_type": "stream",
          "name": "stdout",
          "text": [
            "Period(ms) is approx:  16.666666666666668\n"
          ]
        }
      ]
    }
  ]
}