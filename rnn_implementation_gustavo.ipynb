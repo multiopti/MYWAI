{
  "cells": [
    {
      "cell_type": "markdown",
      "metadata": {
        "id": "view-in-github",
        "colab_type": "text"
      },
      "source": [
        "<a href=\"https://colab.research.google.com/github/multiopti/MYWAI/blob/main/rnn_implementation_gustavo.ipynb\" target=\"_parent\"><img src=\"https://colab.research.google.com/assets/colab-badge.svg\" alt=\"Open In Colab\"/></a>"
      ]
    },
    {
      "cell_type": "markdown",
      "metadata": {
        "id": "ELFqp2xHRQKJ"
      },
      "source": [
        "We follow this post to implement an RNN  https://peterroelants.github.io/posts/rnn-implementation-part01/ to compare two binary strings of same length"
      ]
    },
    {
      "cell_type": "code",
      "execution_count": 41,
      "metadata": {
        "id": "34E2byyERQKL"
      },
      "outputs": [],
      "source": [
        "# Imports\n",
        "%matplotlib inline\n",
        "%config InlineBackend.figure_formats = ['svg']\n",
        "\n",
        "import itertools\n",
        "import numpy as np  # Matrix and vector computation package\n",
        "import matplotlib\n",
        "import matplotlib.pyplot as plt  # Plotting library\n",
        "import seaborn as sns  # Fancier plots\n",
        "\n",
        "# Set seaborn plotting style\n",
        "sns.set_style('darkgrid')\n",
        "# Set the seed for reproducability\n",
        "np.random.seed(seed=1)\n",
        "#"
      ]
    },
    {
      "cell_type": "markdown",
      "metadata": {
        "id": "sbTOO3TmRQKO"
      },
      "source": [
        "The following code block initialises the dataset."
      ]
    },
    {
      "cell_type": "code",
      "execution_count": 42,
      "metadata": {
        "scrolled": false,
        "id": "aflfs-KRRQKP",
        "outputId": "0a16d265-3a11-4c6c-8a0a-5f2b5053aa4a",
        "colab": {
          "base_uri": "https://localhost:8080/"
        }
      },
      "outputs": [
        {
          "output_type": "stream",
          "name": "stdout",
          "text": [
            "X_train tensor shape: (2000, 7, 2)\n",
            "T_train tensor shape: (2000, 7, 1)\n",
            "[0. 1. 0. 0. 1. 0. 1.]\n",
            "[0. 0. 1. 1. 1. 1. 1.]\n",
            "[1. 0. 0. 0. 1. 0. 1.]\n"
          ]
        }
      ],
      "source": [
        "# Create dataset\n",
        "nb_train = 2000  # Number of training samples\n",
        "# Comparing 2 n-bit numbers \n",
        "sequence_len = 7  # Length of the binary sequence\n",
        "\n",
        "def create_dataset(nb_samples, sequence_len):\n",
        "    \"\"\"Create a dataset and return as input, targets.\"\"\"\n",
        "    max_int = 2**(sequence_len) -1 # Maximum integer that can be added\n",
        "     # Transform integer in binary format\n",
        "    format_str = '{:0' + str(sequence_len) + 'b}'\n",
        "    nb_inputs = 2   \n",
        "    nb_outputs = 1  \n",
        "    # Input samples\n",
        "    X = np.zeros((nb_samples, sequence_len, nb_inputs))\n",
        "    # Target samples\n",
        "    T = np.zeros((nb_samples, sequence_len, nb_outputs))\n",
        "    # Fill up the input and target matrix\n",
        "    for i in range(nb_samples):\n",
        "        # Generate random numbers to add\n",
        "        nb1 = np.random.randint(0, max_int)\n",
        "        nb2 = 31\n",
        "        # Fill current input and target row.\n",
        "        X[i,:,0] = list([int(b) for b in format_str.format(nb1)])\n",
        "        X[i,:,1] = list([int(b) for b in format_str.format(nb2)])\n",
        "        for n in range(sequence_len):\n",
        "          if X[i,n,0] == X[i,n,1] :\n",
        "            T[i,n,0] = 1\n",
        "          else:\n",
        "            T[i,n,0] = 0\n",
        "    return X, T\n",
        "\n",
        "# Create training samples\n",
        "X_train, T_train = create_dataset(nb_train, sequence_len)\n",
        "print(f'X_train tensor shape: {X_train.shape}')\n",
        "print(f'T_train tensor shape: {T_train.shape}')\n",
        "print(X_train[0,:,0])\n",
        "print(X_train[0,:,1])\n",
        "print(T_train[0,:,0])\n",
        "#"
      ]
    },
    {
      "cell_type": "code",
      "execution_count": 43,
      "metadata": {
        "id": "AUKLTWBrRQKX"
      },
      "outputs": [],
      "source": [
        "# Define the linear tensor transformation layer\n",
        "class TensorLinear(object):\n",
        "    \"\"\"The linear tensor layer applies a linear tensor dot product \n",
        "    and a bias to its input.\"\"\"\n",
        "    def __init__(self, n_in, n_out, tensor_order, W=None, b=None):\n",
        "        \"\"\"Initialse the weight W and bias b parameters.\"\"\"\n",
        "        a = np.sqrt(6.0 / (n_in + n_out))\n",
        "        self.W = (np.random.uniform(-a, a, (n_in, n_out)) \n",
        "                  if W is None else W)\n",
        "        self.b = (np.zeros((n_out)) if b is None else b)\n",
        "        # Axes summed over in backprop\n",
        "        self.bpAxes = tuple(range(tensor_order-1))\n",
        "\n",
        "    def forward(self, X):\n",
        "        \"\"\"Perform forward step transformation with the help \n",
        "        of a tensor product.\"\"\"\n",
        "        # Same as: Y[i,j,:] = np.dot(X[i,j,:], self.W) + self.b \n",
        "        #          (for i,j in X.shape[0:1])\n",
        "        # Same as: Y = np.einsum('ijk,kl->ijl', X, self.W) + self.b\n",
        "        return np.tensordot(X, self.W, axes=((-1),(0))) + self.b\n",
        "\n",
        "    def backward(self, X, gY):\n",
        "        \"\"\"Return the gradient of the parmeters and the inputs of \n",
        "        this layer.\"\"\"\n",
        "        # Same as: gW = np.einsum('ijk,ijl->kl', X, gY)\n",
        "        # Same as: gW += np.dot(X[:,j,:].T, gY[:,j,:]) \n",
        "        #          (for i,j in X.shape[0:1])\n",
        "        gW = np.tensordot(X, gY, axes=(self.bpAxes, self.bpAxes))\n",
        "        gB = np.sum(gY, axis=self.bpAxes)\n",
        "        # Same as: gX = np.einsum('ijk,kl->ijl', gY, self.W.T)\n",
        "        # Same as: gX[i,j,:] = np.dot(gY[i,j,:], self.W.T) \n",
        "        #          (for i,j in gY.shape[0:1])\n",
        "        gX = np.tensordot(gY, self.W.T, axes=((-1),(0)))  \n",
        "        return gX, gW, gB"
      ]
    },
    {
      "cell_type": "code",
      "execution_count": 44,
      "metadata": {
        "id": "3CLUO0eTRQKZ"
      },
      "outputs": [],
      "source": [
        "# Define the logistic classifier layer\n",
        "class LogisticClassifier(object):\n",
        "    \"\"\"The logistic layer applies the logistic function to its \n",
        "    inputs.\"\"\"\n",
        "   \n",
        "    def forward(self, X):\n",
        "        \"\"\"Perform the forward step transformation.\"\"\"\n",
        "        return 1. / (1. + np.exp(-X))\n",
        "    \n",
        "    def backward(self, Y, T):\n",
        "        \"\"\"Return the gradient with respect to the loss function \n",
        "        at the inputs of this layer.\"\"\"\n",
        "        # Average by the number of samples and sequence length.\n",
        "        return (Y - T) / (Y.shape[0] * Y.shape[1])\n",
        "    \n",
        "    def loss(self, Y, T):\n",
        "        \"\"\"Compute the loss at the output.\"\"\"\n",
        "        return -np.mean((T * np.log(Y)) + ((1-T) * np.log(1-Y)))"
      ]
    },
    {
      "cell_type": "code",
      "execution_count": 45,
      "metadata": {
        "id": "hljktF6-RQKb"
      },
      "outputs": [],
      "source": [
        "# Define tanh layer\n",
        "class TanH(object):\n",
        "    \"\"\"TanH applies the tanh function to its inputs.\"\"\"\n",
        "    \n",
        "    def forward(self, X):\n",
        "        \"\"\"Perform the forward step transformation.\"\"\"\n",
        "        return np.tanh(X) \n",
        "    \n",
        "    def backward(self, Y, output_grad):\n",
        "        \"\"\"Return the gradient at the inputs of this layer.\"\"\"\n",
        "        gTanh = 1.0 - (Y**2)\n",
        "        return (gTanh * output_grad)"
      ]
    },
    {
      "cell_type": "code",
      "execution_count": 46,
      "metadata": {
        "id": "lEGxobZMRQKc"
      },
      "outputs": [],
      "source": [
        "# Define internal state update layer\n",
        "class RecurrentStateUpdate(object):\n",
        "    \"\"\"Update a given state.\"\"\"\n",
        "    def __init__(self, nbStates, W, b):\n",
        "        \"\"\"Initialse the linear transformation and tanh transfer \n",
        "        function.\"\"\"\n",
        "        self.linear = TensorLinear(nbStates, nbStates, 2, W, b)\n",
        "        self.tanh = TanH()\n",
        "\n",
        "    def forward(self, Xk, Sk):\n",
        "        \"\"\"Return state k+1 from input and state k.\"\"\"\n",
        "        return self.tanh.forward(Xk + self.linear.forward(Sk))\n",
        "    \n",
        "    def backward(self, Sk0, Sk1, output_grad):\n",
        "        \"\"\"Return the gradient of the parmeters and the inputs of \n",
        "        this layer.\"\"\"\n",
        "        gZ = self.tanh.backward(Sk1, output_grad)\n",
        "        gSk0, gW, gB = self.linear.backward(Sk0, gZ)\n",
        "        return gZ, gSk0, gW, gB"
      ]
    },
    {
      "cell_type": "code",
      "execution_count": 47,
      "metadata": {
        "id": "EioI8omIRQKd"
      },
      "outputs": [],
      "source": [
        "# Define layer that unfolds the states over time\n",
        "class RecurrentStateUnfold(object):\n",
        "    \"\"\"Unfold the recurrent states.\"\"\"\n",
        "    def __init__(self, nbStates, nbTimesteps):\n",
        "        \"\"\"Initialse the shared parameters, the inital state and \n",
        "        state update function.\"\"\"\n",
        "        a = np.sqrt(6. / (nbStates * 2))\n",
        "        self.W = np.random.uniform(-a, a, (nbStates, nbStates))\n",
        "        self.b = np.zeros((self.W.shape[0]))  # Shared bias\n",
        "        self.S0 = np.zeros(nbStates)  # Initial state\n",
        "        self.nbTimesteps = nbTimesteps  # Timesteps to unfold\n",
        "        self.stateUpdate = RecurrentStateUpdate(\n",
        "            nbStates, self.W, self.b)  # State update function\n",
        "        \n",
        "    def forward(self, X):\n",
        "        \"\"\"Iteratively apply forward step to all states.\"\"\"\n",
        "        # State tensor\n",
        "        S = np.zeros((X.shape[0], X.shape[1]+1, self.W.shape[0]))\n",
        "        S[:,0,:] = self.S0  # Set initial state\n",
        "        for k in range(self.nbTimesteps):\n",
        "            # Update the states iteratively\n",
        "            S[:,k+1,:] = self.stateUpdate.forward(X[:,k,:], S[:,k,:])\n",
        "        return S\n",
        "    \n",
        "    def backward(self, X, S, gY):\n",
        "        \"\"\"Return the gradient of the parmeters and the inputs of \n",
        "        this layer.\"\"\"\n",
        "        # Initialise gradient of state outputs\n",
        "        gSk = np.zeros_like(gY[:,self.nbTimesteps-1,:])\n",
        "        # Initialse gradient tensor for state inputs\n",
        "        gZ = np.zeros_like(X)\n",
        "        gWSum = np.zeros_like(self.W)  # Initialise weight gradients\n",
        "        gBSum = np.zeros_like(self.b)  # Initialse bias gradients\n",
        "        # Propagate the gradients iteratively\n",
        "        for k in range(self.nbTimesteps-1, -1, -1):\n",
        "            # Gradient at state output is gradient from previous state \n",
        "            #  plus gradient from output\n",
        "            gSk += gY[:,k,:]\n",
        "            # Propgate the gradient back through one state\n",
        "            gZ[:,k,:], gSk, gW, gB = self.stateUpdate.backward(\n",
        "                S[:,k,:], S[:,k+1,:], gSk)\n",
        "            gWSum += gW  # Update total weight gradient\n",
        "            gBSum += gB  # Update total bias gradient\n",
        "        # Get gradient of initial state over all samples\n",
        "        gS0 = np.sum(gSk, axis=0)\n",
        "        return gZ, gWSum, gBSum, gS0"
      ]
    },
    {
      "cell_type": "code",
      "execution_count": 48,
      "metadata": {
        "id": "1RM066m1RQKe"
      },
      "outputs": [],
      "source": [
        "# Define the full network\n",
        "class RnnBinaryDetecter(object):\n",
        "    \"\"\"RNN to compare two binary numbers\"\"\"\n",
        "    def __init__(self, nb_of_inputs, nb_of_outputs, nb_of_states, \n",
        "                 sequence_len):\n",
        "        \"\"\"Initialse the network layers.\"\"\"\n",
        "        # Input layer\n",
        "        self.tensorInput = TensorLinear(nb_of_inputs, nb_of_states, 3)\n",
        "        # Recurrent layer\n",
        "        self.rnnUnfold = RecurrentStateUnfold(nb_of_states, sequence_len)\n",
        "        # Linear output transform\n",
        "        self.tensorOutput = TensorLinear(nb_of_states, nb_of_outputs, 3)\n",
        "        self.classifier = LogisticClassifier()  # Classification output\n",
        "        \n",
        "    def forward(self, X):\n",
        "        \"\"\"Perform the forward propagation of input X through all \n",
        "        layers.\"\"\"\n",
        "        # Linear input transformation\n",
        "        recIn = self.tensorInput.forward(X)\n",
        "        # Forward propagate through time and return states\n",
        "        S = self.rnnUnfold.forward(recIn)\n",
        "        # Linear output transformation\n",
        "        Z = self.tensorOutput.forward(S[:,1:sequence_len+1,:])\n",
        "        Y = self.classifier.forward(Z)  # Classification probabilities\n",
        "        # Return: input to recurrent layer, states, input to classifier, \n",
        "        #  output\n",
        "        return recIn, S, Z, Y\n",
        "    \n",
        "    def backward(self, X, Y, recIn, S, T):\n",
        "        \"\"\"Perform the backward propagation through all layers.\n",
        "        Input: input samples, network output, intput to recurrent \n",
        "        layer, states, targets.\"\"\"\n",
        "        gZ = self.classifier.backward(Y, T)  # Get output gradient\n",
        "        gRecOut, gWout, gBout = self.tensorOutput.backward(\n",
        "            S[:,1:sequence_len+1,:], gZ)\n",
        "        # Propagate gradient backwards through time\n",
        "        gRnnIn, gWrec, gBrec, gS0 = self.rnnUnfold.backward(\n",
        "            recIn, S, gRecOut)\n",
        "        gX, gWin, gBin = self.tensorInput.backward(X, gRnnIn)\n",
        "        # Return the parameter gradients of: linear output weights, \n",
        "        #  linear output bias, recursive weights, recursive bias, #\n",
        "        #  linear input weights, linear input bias, initial state.\n",
        "        return gWout, gBout, gWrec, gBrec, gWin, gBin, gS0\n",
        "    \n",
        "    def getOutput(self, X):\n",
        "        \"\"\"Get the output probabilities of input X.\"\"\"\n",
        "        recIn, S, Z, Y = self.forward(X)\n",
        "        return Y\n",
        "    \n",
        "    def getBinaryOutput(self, X):\n",
        "        \"\"\"Get the binary output of input X.\"\"\"\n",
        "        return np.around(self.getOutput(X))\n",
        "    \n",
        "    def getParamGrads(self, X, T):\n",
        "        \"\"\"Return the gradients with respect to input X and \n",
        "        target T as a list. The list has the same order as the \n",
        "        get_params_iter iterator.\"\"\"\n",
        "        recIn, S, Z, Y = self.forward(X)\n",
        "        gWout, gBout, gWrec, gBrec, gWin, gBin, gS0 = self.backward(\n",
        "            X, Y, recIn, S, T)\n",
        "        return [g for g in itertools.chain(\n",
        "                np.nditer(gS0),\n",
        "                np.nditer(gWin),\n",
        "                np.nditer(gBin),\n",
        "                np.nditer(gWrec),\n",
        "                np.nditer(gBrec),\n",
        "                np.nditer(gWout),\n",
        "                np.nditer(gBout))]\n",
        "    \n",
        "    def loss(self, Y, T):\n",
        "        \"\"\"Return the loss of input X w.r.t. targets T.\"\"\"\n",
        "        return self.classifier.loss(Y, T)\n",
        "    \n",
        "    def get_params_iter(self):\n",
        "        \"\"\"Return an iterator over the parameters.\n",
        "        The iterator has the same order as get_params_grad.\n",
        "        The elements returned by the iterator are editable in-place.\"\"\"\n",
        "        return itertools.chain(\n",
        "            np.nditer(self.rnnUnfold.S0, op_flags=['readwrite']),\n",
        "            np.nditer(self.tensorInput.W, op_flags=['readwrite']),\n",
        "            np.nditer(self.tensorInput.b, op_flags=['readwrite']),\n",
        "            np.nditer(self.rnnUnfold.W, op_flags=['readwrite']),\n",
        "            np.nditer(self.rnnUnfold.b, op_flags=['readwrite']),\n",
        "            np.nditer(self.tensorOutput.W, op_flags=['readwrite']), \n",
        "            np.nditer(self.tensorOutput.b, op_flags=['readwrite']))"
      ]
    },
    {
      "cell_type": "code",
      "execution_count": 49,
      "metadata": {
        "scrolled": false,
        "id": "UxDd22SzRQKh"
      },
      "outputs": [],
      "source": [
        "# Set hyper-parameters\n",
        "lmbd = 0.5  # Rmsprop lambda\n",
        "learning_rate = 0.05  # Learning rate\n",
        "momentum_term = 0.80  # Momentum term\n",
        "eps = 1e-6  # Numerical stability term to prevent division by zero\n",
        "mb_size = 100  # Size of the minibatches (number of samples)\n",
        "\n",
        "# Create the network\n",
        "nb_of_states = 3  # Number of states in the recurrent layer\n",
        "RNN = RnnBinaryDetecter(2, 1, nb_of_states, sequence_len)\n",
        "# Set the initial parameters\n",
        "# Number of parameters in the network\n",
        "nbParameters =  sum(1 for _ in RNN.get_params_iter())\n",
        "# Rmsprop moving average\n",
        "maSquare = [0.0 for _ in range(nbParameters)]\n",
        "Vs = [0.0 for _ in range(nbParameters)]  # Momentum\n",
        "\n",
        "# Create a list of minibatch losses to be plotted\n",
        "ls_of_loss = [\n",
        "    RNN.loss(RNN.getOutput(X_train[0:100,:,:]), T_train[0:100,:,:])]\n",
        "# Iterate over some iterations\n",
        "for i in range(5):\n",
        "    # Iterate over all the minibatches\n",
        "    for mb in range(nb_train // mb_size):\n",
        "        X_mb = X_train[mb:mb+mb_size,:,:]  # Input minibatch\n",
        "        T_mb = T_train[mb:mb+mb_size,:,:]  # Target minibatch\n",
        "        V_tmp = [v * momentum_term for v in Vs]\n",
        "        # Update each parameters according to previous gradient\n",
        "        for pIdx, P in enumerate(RNN.get_params_iter()):\n",
        "            P += V_tmp[pIdx]\n",
        "        # Get gradients after following old velocity\n",
        "        # Get the parameter gradients\n",
        "        backprop_grads = RNN.getParamGrads(X_mb, T_mb)    \n",
        "        # Update each parameter seperately\n",
        "        for pIdx, P in enumerate(RNN.get_params_iter()):\n",
        "            # Update the Rmsprop moving averages\n",
        "            maSquare[pIdx] = lmbd * maSquare[pIdx] + (\n",
        "                1-lmbd) * backprop_grads[pIdx]**2\n",
        "            # Calculate the Rmsprop normalised gradient\n",
        "            pGradNorm = ((\n",
        "                learning_rate * backprop_grads[pIdx]) / np.sqrt(\n",
        "                maSquare[pIdx]) + eps)\n",
        "            # Update the momentum\n",
        "            Vs[pIdx] = V_tmp[pIdx] - pGradNorm     \n",
        "            P -= pGradNorm   # Update the parameter\n",
        "        # Add loss to list to plot\n",
        "        ls_of_loss.append(RNN.loss(RNN.getOutput(X_mb), T_mb))"
      ]
    },
    {
      "cell_type": "code",
      "execution_count": 50,
      "metadata": {
        "id": "wWeZcncZRQKh",
        "outputId": "1981f392-c86e-47a7-d880-86974318b7ce",
        "colab": {
          "base_uri": "https://localhost:8080/",
          "height": 297
        }
      },
      "outputs": [
        {
          "output_type": "display_data",
          "data": {
            "text/plain": [
              "<Figure size 360x216 with 1 Axes>"
            ],
            "image/svg+xml": "<?xml version=\"1.0\" encoding=\"utf-8\" standalone=\"no\"?>\n<!DOCTYPE svg PUBLIC \"-//W3C//DTD SVG 1.1//EN\"\n  \"http://www.w3.org/Graphics/SVG/1.1/DTD/svg11.dtd\">\n<!-- Created with matplotlib (https://matplotlib.org/) -->\n<svg height=\"206.754375pt\" version=\"1.1\" viewBox=\"0 0 344.396875 206.754375\" width=\"344.396875pt\" xmlns=\"http://www.w3.org/2000/svg\" xmlns:xlink=\"http://www.w3.org/1999/xlink\">\n <defs>\n  <style type=\"text/css\">\n*{stroke-linecap:butt;stroke-linejoin:round;}\n  </style>\n </defs>\n <g id=\"figure_1\">\n  <g id=\"patch_1\">\n   <path d=\"M 0 206.754375 \nL 344.396875 206.754375 \nL 344.396875 0 \nL 0 0 \nz\n\" style=\"fill:#ffffff;\"/>\n  </g>\n  <g id=\"axes_1\">\n   <g id=\"patch_2\">\n    <path d=\"M 48.653125 169.198125 \nL 327.653125 169.198125 \nL 327.653125 22.318125 \nL 48.653125 22.318125 \nz\n\" style=\"fill:#eaeaf2;\"/>\n   </g>\n   <g id=\"matplotlib.axis_1\">\n    <g id=\"xtick_1\">\n     <g id=\"line2d_1\">\n      <path clip-path=\"url(#p71bf71173d)\" d=\"M 48.653125 169.198125 \nL 48.653125 22.318125 \n\" style=\"fill:none;stroke:#ffffff;stroke-linecap:round;stroke-width:0.8;\"/>\n     </g>\n     <g id=\"text_1\">\n      <!-- 0 -->\n      <defs>\n       <path d=\"M 31.78125 66.40625 \nQ 24.171875 66.40625 20.328125 58.90625 \nQ 16.5 51.421875 16.5 36.375 \nQ 16.5 21.390625 20.328125 13.890625 \nQ 24.171875 6.390625 31.78125 6.390625 \nQ 39.453125 6.390625 43.28125 13.890625 \nQ 47.125 21.390625 47.125 36.375 \nQ 47.125 51.421875 43.28125 58.90625 \nQ 39.453125 66.40625 31.78125 66.40625 \nz\nM 31.78125 74.21875 \nQ 44.046875 74.21875 50.515625 64.515625 \nQ 56.984375 54.828125 56.984375 36.375 \nQ 56.984375 17.96875 50.515625 8.265625 \nQ 44.046875 -1.421875 31.78125 -1.421875 \nQ 19.53125 -1.421875 13.0625 8.265625 \nQ 6.59375 17.96875 6.59375 36.375 \nQ 6.59375 54.828125 13.0625 64.515625 \nQ 19.53125 74.21875 31.78125 74.21875 \nz\n\" id=\"DejaVuSans-48\"/>\n      </defs>\n      <g style=\"fill:#262626;\" transform=\"translate(45.471875 183.796562)scale(0.1 -0.1)\">\n       <use xlink:href=\"#DejaVuSans-48\"/>\n      </g>\n     </g>\n    </g>\n    <g id=\"xtick_2\">\n     <g id=\"line2d_2\">\n      <path clip-path=\"url(#p71bf71173d)\" d=\"M 104.453125 169.198125 \nL 104.453125 22.318125 \n\" style=\"fill:none;stroke:#ffffff;stroke-linecap:round;stroke-width:0.8;\"/>\n     </g>\n     <g id=\"text_2\">\n      <!-- 20 -->\n      <defs>\n       <path d=\"M 19.1875 8.296875 \nL 53.609375 8.296875 \nL 53.609375 0 \nL 7.328125 0 \nL 7.328125 8.296875 \nQ 12.9375 14.109375 22.625 23.890625 \nQ 32.328125 33.6875 34.8125 36.53125 \nQ 39.546875 41.84375 41.421875 45.53125 \nQ 43.3125 49.21875 43.3125 52.78125 \nQ 43.3125 58.59375 39.234375 62.25 \nQ 35.15625 65.921875 28.609375 65.921875 \nQ 23.96875 65.921875 18.8125 64.3125 \nQ 13.671875 62.703125 7.8125 59.421875 \nL 7.8125 69.390625 \nQ 13.765625 71.78125 18.9375 73 \nQ 24.125 74.21875 28.421875 74.21875 \nQ 39.75 74.21875 46.484375 68.546875 \nQ 53.21875 62.890625 53.21875 53.421875 \nQ 53.21875 48.921875 51.53125 44.890625 \nQ 49.859375 40.875 45.40625 35.40625 \nQ 44.1875 33.984375 37.640625 27.21875 \nQ 31.109375 20.453125 19.1875 8.296875 \nz\n\" id=\"DejaVuSans-50\"/>\n      </defs>\n      <g style=\"fill:#262626;\" transform=\"translate(98.090625 183.796562)scale(0.1 -0.1)\">\n       <use xlink:href=\"#DejaVuSans-50\"/>\n       <use x=\"63.623047\" xlink:href=\"#DejaVuSans-48\"/>\n      </g>\n     </g>\n    </g>\n    <g id=\"xtick_3\">\n     <g id=\"line2d_3\">\n      <path clip-path=\"url(#p71bf71173d)\" d=\"M 160.253125 169.198125 \nL 160.253125 22.318125 \n\" style=\"fill:none;stroke:#ffffff;stroke-linecap:round;stroke-width:0.8;\"/>\n     </g>\n     <g id=\"text_3\">\n      <!-- 40 -->\n      <defs>\n       <path d=\"M 37.796875 64.3125 \nL 12.890625 25.390625 \nL 37.796875 25.390625 \nz\nM 35.203125 72.90625 \nL 47.609375 72.90625 \nL 47.609375 25.390625 \nL 58.015625 25.390625 \nL 58.015625 17.1875 \nL 47.609375 17.1875 \nL 47.609375 0 \nL 37.796875 0 \nL 37.796875 17.1875 \nL 4.890625 17.1875 \nL 4.890625 26.703125 \nz\n\" id=\"DejaVuSans-52\"/>\n      </defs>\n      <g style=\"fill:#262626;\" transform=\"translate(153.890625 183.796562)scale(0.1 -0.1)\">\n       <use xlink:href=\"#DejaVuSans-52\"/>\n       <use x=\"63.623047\" xlink:href=\"#DejaVuSans-48\"/>\n      </g>\n     </g>\n    </g>\n    <g id=\"xtick_4\">\n     <g id=\"line2d_4\">\n      <path clip-path=\"url(#p71bf71173d)\" d=\"M 216.053125 169.198125 \nL 216.053125 22.318125 \n\" style=\"fill:none;stroke:#ffffff;stroke-linecap:round;stroke-width:0.8;\"/>\n     </g>\n     <g id=\"text_4\">\n      <!-- 60 -->\n      <defs>\n       <path d=\"M 33.015625 40.375 \nQ 26.375 40.375 22.484375 35.828125 \nQ 18.609375 31.296875 18.609375 23.390625 \nQ 18.609375 15.53125 22.484375 10.953125 \nQ 26.375 6.390625 33.015625 6.390625 \nQ 39.65625 6.390625 43.53125 10.953125 \nQ 47.40625 15.53125 47.40625 23.390625 \nQ 47.40625 31.296875 43.53125 35.828125 \nQ 39.65625 40.375 33.015625 40.375 \nz\nM 52.59375 71.296875 \nL 52.59375 62.3125 \nQ 48.875 64.0625 45.09375 64.984375 \nQ 41.3125 65.921875 37.59375 65.921875 \nQ 27.828125 65.921875 22.671875 59.328125 \nQ 17.53125 52.734375 16.796875 39.40625 \nQ 19.671875 43.65625 24.015625 45.921875 \nQ 28.375 48.1875 33.59375 48.1875 \nQ 44.578125 48.1875 50.953125 41.515625 \nQ 57.328125 34.859375 57.328125 23.390625 \nQ 57.328125 12.15625 50.6875 5.359375 \nQ 44.046875 -1.421875 33.015625 -1.421875 \nQ 20.359375 -1.421875 13.671875 8.265625 \nQ 6.984375 17.96875 6.984375 36.375 \nQ 6.984375 53.65625 15.1875 63.9375 \nQ 23.390625 74.21875 37.203125 74.21875 \nQ 40.921875 74.21875 44.703125 73.484375 \nQ 48.484375 72.75 52.59375 71.296875 \nz\n\" id=\"DejaVuSans-54\"/>\n      </defs>\n      <g style=\"fill:#262626;\" transform=\"translate(209.690625 183.796562)scale(0.1 -0.1)\">\n       <use xlink:href=\"#DejaVuSans-54\"/>\n       <use x=\"63.623047\" xlink:href=\"#DejaVuSans-48\"/>\n      </g>\n     </g>\n    </g>\n    <g id=\"xtick_5\">\n     <g id=\"line2d_5\">\n      <path clip-path=\"url(#p71bf71173d)\" d=\"M 271.853125 169.198125 \nL 271.853125 22.318125 \n\" style=\"fill:none;stroke:#ffffff;stroke-linecap:round;stroke-width:0.8;\"/>\n     </g>\n     <g id=\"text_5\">\n      <!-- 80 -->\n      <defs>\n       <path d=\"M 31.78125 34.625 \nQ 24.75 34.625 20.71875 30.859375 \nQ 16.703125 27.09375 16.703125 20.515625 \nQ 16.703125 13.921875 20.71875 10.15625 \nQ 24.75 6.390625 31.78125 6.390625 \nQ 38.8125 6.390625 42.859375 10.171875 \nQ 46.921875 13.96875 46.921875 20.515625 \nQ 46.921875 27.09375 42.890625 30.859375 \nQ 38.875 34.625 31.78125 34.625 \nz\nM 21.921875 38.8125 \nQ 15.578125 40.375 12.03125 44.71875 \nQ 8.5 49.078125 8.5 55.328125 \nQ 8.5 64.0625 14.71875 69.140625 \nQ 20.953125 74.21875 31.78125 74.21875 \nQ 42.671875 74.21875 48.875 69.140625 \nQ 55.078125 64.0625 55.078125 55.328125 \nQ 55.078125 49.078125 51.53125 44.71875 \nQ 48 40.375 41.703125 38.8125 \nQ 48.828125 37.15625 52.796875 32.3125 \nQ 56.78125 27.484375 56.78125 20.515625 \nQ 56.78125 9.90625 50.3125 4.234375 \nQ 43.84375 -1.421875 31.78125 -1.421875 \nQ 19.734375 -1.421875 13.25 4.234375 \nQ 6.78125 9.90625 6.78125 20.515625 \nQ 6.78125 27.484375 10.78125 32.3125 \nQ 14.796875 37.15625 21.921875 38.8125 \nz\nM 18.3125 54.390625 \nQ 18.3125 48.734375 21.84375 45.5625 \nQ 25.390625 42.390625 31.78125 42.390625 \nQ 38.140625 42.390625 41.71875 45.5625 \nQ 45.3125 48.734375 45.3125 54.390625 \nQ 45.3125 60.0625 41.71875 63.234375 \nQ 38.140625 66.40625 31.78125 66.40625 \nQ 25.390625 66.40625 21.84375 63.234375 \nQ 18.3125 60.0625 18.3125 54.390625 \nz\n\" id=\"DejaVuSans-56\"/>\n      </defs>\n      <g style=\"fill:#262626;\" transform=\"translate(265.490625 183.796562)scale(0.1 -0.1)\">\n       <use xlink:href=\"#DejaVuSans-56\"/>\n       <use x=\"63.623047\" xlink:href=\"#DejaVuSans-48\"/>\n      </g>\n     </g>\n    </g>\n    <g id=\"xtick_6\">\n     <g id=\"line2d_6\">\n      <path clip-path=\"url(#p71bf71173d)\" d=\"M 327.653125 169.198125 \nL 327.653125 22.318125 \n\" style=\"fill:none;stroke:#ffffff;stroke-linecap:round;stroke-width:0.8;\"/>\n     </g>\n     <g id=\"text_6\">\n      <!-- 100 -->\n      <defs>\n       <path d=\"M 12.40625 8.296875 \nL 28.515625 8.296875 \nL 28.515625 63.921875 \nL 10.984375 60.40625 \nL 10.984375 69.390625 \nL 28.421875 72.90625 \nL 38.28125 72.90625 \nL 38.28125 8.296875 \nL 54.390625 8.296875 \nL 54.390625 0 \nL 12.40625 0 \nz\n\" id=\"DejaVuSans-49\"/>\n      </defs>\n      <g style=\"fill:#262626;\" transform=\"translate(318.109375 183.796562)scale(0.1 -0.1)\">\n       <use xlink:href=\"#DejaVuSans-49\"/>\n       <use x=\"63.623047\" xlink:href=\"#DejaVuSans-48\"/>\n       <use x=\"127.246094\" xlink:href=\"#DejaVuSans-48\"/>\n      </g>\n     </g>\n    </g>\n    <g id=\"text_7\">\n     <!-- minibatch iteration -->\n     <defs>\n      <path d=\"M 52 44.1875 \nQ 55.375 50.25 60.0625 53.125 \nQ 64.75 56 71.09375 56 \nQ 79.640625 56 84.28125 50.015625 \nQ 88.921875 44.046875 88.921875 33.015625 \nL 88.921875 0 \nL 79.890625 0 \nL 79.890625 32.71875 \nQ 79.890625 40.578125 77.09375 44.375 \nQ 74.3125 48.1875 68.609375 48.1875 \nQ 61.625 48.1875 57.5625 43.546875 \nQ 53.515625 38.921875 53.515625 30.90625 \nL 53.515625 0 \nL 44.484375 0 \nL 44.484375 32.71875 \nQ 44.484375 40.625 41.703125 44.40625 \nQ 38.921875 48.1875 33.109375 48.1875 \nQ 26.21875 48.1875 22.15625 43.53125 \nQ 18.109375 38.875 18.109375 30.90625 \nL 18.109375 0 \nL 9.078125 0 \nL 9.078125 54.6875 \nL 18.109375 54.6875 \nL 18.109375 46.1875 \nQ 21.1875 51.21875 25.484375 53.609375 \nQ 29.78125 56 35.6875 56 \nQ 41.65625 56 45.828125 52.96875 \nQ 50 49.953125 52 44.1875 \nz\n\" id=\"DejaVuSans-109\"/>\n      <path d=\"M 9.421875 54.6875 \nL 18.40625 54.6875 \nL 18.40625 0 \nL 9.421875 0 \nz\nM 9.421875 75.984375 \nL 18.40625 75.984375 \nL 18.40625 64.59375 \nL 9.421875 64.59375 \nz\n\" id=\"DejaVuSans-105\"/>\n      <path d=\"M 54.890625 33.015625 \nL 54.890625 0 \nL 45.90625 0 \nL 45.90625 32.71875 \nQ 45.90625 40.484375 42.875 44.328125 \nQ 39.84375 48.1875 33.796875 48.1875 \nQ 26.515625 48.1875 22.3125 43.546875 \nQ 18.109375 38.921875 18.109375 30.90625 \nL 18.109375 0 \nL 9.078125 0 \nL 9.078125 54.6875 \nL 18.109375 54.6875 \nL 18.109375 46.1875 \nQ 21.34375 51.125 25.703125 53.5625 \nQ 30.078125 56 35.796875 56 \nQ 45.21875 56 50.046875 50.171875 \nQ 54.890625 44.34375 54.890625 33.015625 \nz\n\" id=\"DejaVuSans-110\"/>\n      <path d=\"M 48.6875 27.296875 \nQ 48.6875 37.203125 44.609375 42.84375 \nQ 40.53125 48.484375 33.40625 48.484375 \nQ 26.265625 48.484375 22.1875 42.84375 \nQ 18.109375 37.203125 18.109375 27.296875 \nQ 18.109375 17.390625 22.1875 11.75 \nQ 26.265625 6.109375 33.40625 6.109375 \nQ 40.53125 6.109375 44.609375 11.75 \nQ 48.6875 17.390625 48.6875 27.296875 \nz\nM 18.109375 46.390625 \nQ 20.953125 51.265625 25.265625 53.625 \nQ 29.59375 56 35.59375 56 \nQ 45.5625 56 51.78125 48.09375 \nQ 58.015625 40.1875 58.015625 27.296875 \nQ 58.015625 14.40625 51.78125 6.484375 \nQ 45.5625 -1.421875 35.59375 -1.421875 \nQ 29.59375 -1.421875 25.265625 0.953125 \nQ 20.953125 3.328125 18.109375 8.203125 \nL 18.109375 0 \nL 9.078125 0 \nL 9.078125 75.984375 \nL 18.109375 75.984375 \nz\n\" id=\"DejaVuSans-98\"/>\n      <path d=\"M 34.28125 27.484375 \nQ 23.390625 27.484375 19.1875 25 \nQ 14.984375 22.515625 14.984375 16.5 \nQ 14.984375 11.71875 18.140625 8.90625 \nQ 21.296875 6.109375 26.703125 6.109375 \nQ 34.1875 6.109375 38.703125 11.40625 \nQ 43.21875 16.703125 43.21875 25.484375 \nL 43.21875 27.484375 \nz\nM 52.203125 31.203125 \nL 52.203125 0 \nL 43.21875 0 \nL 43.21875 8.296875 \nQ 40.140625 3.328125 35.546875 0.953125 \nQ 30.953125 -1.421875 24.3125 -1.421875 \nQ 15.921875 -1.421875 10.953125 3.296875 \nQ 6 8.015625 6 15.921875 \nQ 6 25.140625 12.171875 29.828125 \nQ 18.359375 34.515625 30.609375 34.515625 \nL 43.21875 34.515625 \nL 43.21875 35.40625 \nQ 43.21875 41.609375 39.140625 45 \nQ 35.0625 48.390625 27.6875 48.390625 \nQ 23 48.390625 18.546875 47.265625 \nQ 14.109375 46.140625 10.015625 43.890625 \nL 10.015625 52.203125 \nQ 14.9375 54.109375 19.578125 55.046875 \nQ 24.21875 56 28.609375 56 \nQ 40.484375 56 46.34375 49.84375 \nQ 52.203125 43.703125 52.203125 31.203125 \nz\n\" id=\"DejaVuSans-97\"/>\n      <path d=\"M 18.3125 70.21875 \nL 18.3125 54.6875 \nL 36.8125 54.6875 \nL 36.8125 47.703125 \nL 18.3125 47.703125 \nL 18.3125 18.015625 \nQ 18.3125 11.328125 20.140625 9.421875 \nQ 21.96875 7.515625 27.59375 7.515625 \nL 36.8125 7.515625 \nL 36.8125 0 \nL 27.59375 0 \nQ 17.1875 0 13.234375 3.875 \nQ 9.28125 7.765625 9.28125 18.015625 \nL 9.28125 47.703125 \nL 2.6875 47.703125 \nL 2.6875 54.6875 \nL 9.28125 54.6875 \nL 9.28125 70.21875 \nz\n\" id=\"DejaVuSans-116\"/>\n      <path d=\"M 48.78125 52.59375 \nL 48.78125 44.1875 \nQ 44.96875 46.296875 41.140625 47.34375 \nQ 37.3125 48.390625 33.40625 48.390625 \nQ 24.65625 48.390625 19.8125 42.84375 \nQ 14.984375 37.3125 14.984375 27.296875 \nQ 14.984375 17.28125 19.8125 11.734375 \nQ 24.65625 6.203125 33.40625 6.203125 \nQ 37.3125 6.203125 41.140625 7.25 \nQ 44.96875 8.296875 48.78125 10.40625 \nL 48.78125 2.09375 \nQ 45.015625 0.34375 40.984375 -0.53125 \nQ 36.96875 -1.421875 32.421875 -1.421875 \nQ 20.0625 -1.421875 12.78125 6.34375 \nQ 5.515625 14.109375 5.515625 27.296875 \nQ 5.515625 40.671875 12.859375 48.328125 \nQ 20.21875 56 33.015625 56 \nQ 37.15625 56 41.109375 55.140625 \nQ 45.0625 54.296875 48.78125 52.59375 \nz\n\" id=\"DejaVuSans-99\"/>\n      <path d=\"M 54.890625 33.015625 \nL 54.890625 0 \nL 45.90625 0 \nL 45.90625 32.71875 \nQ 45.90625 40.484375 42.875 44.328125 \nQ 39.84375 48.1875 33.796875 48.1875 \nQ 26.515625 48.1875 22.3125 43.546875 \nQ 18.109375 38.921875 18.109375 30.90625 \nL 18.109375 0 \nL 9.078125 0 \nL 9.078125 75.984375 \nL 18.109375 75.984375 \nL 18.109375 46.1875 \nQ 21.34375 51.125 25.703125 53.5625 \nQ 30.078125 56 35.796875 56 \nQ 45.21875 56 50.046875 50.171875 \nQ 54.890625 44.34375 54.890625 33.015625 \nz\n\" id=\"DejaVuSans-104\"/>\n      <path id=\"DejaVuSans-32\"/>\n      <path d=\"M 56.203125 29.59375 \nL 56.203125 25.203125 \nL 14.890625 25.203125 \nQ 15.484375 15.921875 20.484375 11.0625 \nQ 25.484375 6.203125 34.421875 6.203125 \nQ 39.59375 6.203125 44.453125 7.46875 \nQ 49.3125 8.734375 54.109375 11.28125 \nL 54.109375 2.78125 \nQ 49.265625 0.734375 44.1875 -0.34375 \nQ 39.109375 -1.421875 33.890625 -1.421875 \nQ 20.796875 -1.421875 13.15625 6.1875 \nQ 5.515625 13.8125 5.515625 26.8125 \nQ 5.515625 40.234375 12.765625 48.109375 \nQ 20.015625 56 32.328125 56 \nQ 43.359375 56 49.78125 48.890625 \nQ 56.203125 41.796875 56.203125 29.59375 \nz\nM 47.21875 32.234375 \nQ 47.125 39.59375 43.09375 43.984375 \nQ 39.0625 48.390625 32.421875 48.390625 \nQ 24.90625 48.390625 20.390625 44.140625 \nQ 15.875 39.890625 15.1875 32.171875 \nz\n\" id=\"DejaVuSans-101\"/>\n      <path d=\"M 41.109375 46.296875 \nQ 39.59375 47.171875 37.8125 47.578125 \nQ 36.03125 48 33.890625 48 \nQ 26.265625 48 22.1875 43.046875 \nQ 18.109375 38.09375 18.109375 28.8125 \nL 18.109375 0 \nL 9.078125 0 \nL 9.078125 54.6875 \nL 18.109375 54.6875 \nL 18.109375 46.1875 \nQ 20.953125 51.171875 25.484375 53.578125 \nQ 30.03125 56 36.53125 56 \nQ 37.453125 56 38.578125 55.875 \nQ 39.703125 55.765625 41.0625 55.515625 \nz\n\" id=\"DejaVuSans-114\"/>\n      <path d=\"M 30.609375 48.390625 \nQ 23.390625 48.390625 19.1875 42.75 \nQ 14.984375 37.109375 14.984375 27.296875 \nQ 14.984375 17.484375 19.15625 11.84375 \nQ 23.34375 6.203125 30.609375 6.203125 \nQ 37.796875 6.203125 41.984375 11.859375 \nQ 46.1875 17.53125 46.1875 27.296875 \nQ 46.1875 37.015625 41.984375 42.703125 \nQ 37.796875 48.390625 30.609375 48.390625 \nz\nM 30.609375 56 \nQ 42.328125 56 49.015625 48.375 \nQ 55.71875 40.765625 55.71875 27.296875 \nQ 55.71875 13.875 49.015625 6.21875 \nQ 42.328125 -1.421875 30.609375 -1.421875 \nQ 18.84375 -1.421875 12.171875 6.21875 \nQ 5.515625 13.875 5.515625 27.296875 \nQ 5.515625 40.765625 12.171875 48.375 \nQ 18.84375 56 30.609375 56 \nz\n\" id=\"DejaVuSans-111\"/>\n     </defs>\n     <g style=\"fill:#262626;\" transform=\"translate(140.507812 197.474688)scale(0.1 -0.1)\">\n      <use xlink:href=\"#DejaVuSans-109\"/>\n      <use x=\"97.412109\" xlink:href=\"#DejaVuSans-105\"/>\n      <use x=\"125.195312\" xlink:href=\"#DejaVuSans-110\"/>\n      <use x=\"188.574219\" xlink:href=\"#DejaVuSans-105\"/>\n      <use x=\"216.357422\" xlink:href=\"#DejaVuSans-98\"/>\n      <use x=\"279.833984\" xlink:href=\"#DejaVuSans-97\"/>\n      <use x=\"341.113281\" xlink:href=\"#DejaVuSans-116\"/>\n      <use x=\"380.322266\" xlink:href=\"#DejaVuSans-99\"/>\n      <use x=\"435.302734\" xlink:href=\"#DejaVuSans-104\"/>\n      <use x=\"498.681641\" xlink:href=\"#DejaVuSans-32\"/>\n      <use x=\"530.46875\" xlink:href=\"#DejaVuSans-105\"/>\n      <use x=\"558.251953\" xlink:href=\"#DejaVuSans-116\"/>\n      <use x=\"597.460938\" xlink:href=\"#DejaVuSans-101\"/>\n      <use x=\"658.984375\" xlink:href=\"#DejaVuSans-114\"/>\n      <use x=\"700.097656\" xlink:href=\"#DejaVuSans-97\"/>\n      <use x=\"761.376953\" xlink:href=\"#DejaVuSans-116\"/>\n      <use x=\"800.585938\" xlink:href=\"#DejaVuSans-105\"/>\n      <use x=\"828.369141\" xlink:href=\"#DejaVuSans-111\"/>\n      <use x=\"889.550781\" xlink:href=\"#DejaVuSans-110\"/>\n     </g>\n    </g>\n   </g>\n   <g id=\"matplotlib.axis_2\">\n    <g id=\"ytick_1\">\n     <g id=\"line2d_7\">\n      <path clip-path=\"url(#p71bf71173d)\" d=\"M 48.653125 162.521765 \nL 327.653125 162.521765 \n\" style=\"fill:none;stroke:#ffffff;stroke-linecap:round;stroke-width:0.8;\"/>\n     </g>\n     <g id=\"text_8\">\n      <!-- 0.0 -->\n      <defs>\n       <path d=\"M 10.6875 12.40625 \nL 21 12.40625 \nL 21 0 \nL 10.6875 0 \nz\n\" id=\"DejaVuSans-46\"/>\n      </defs>\n      <g style=\"fill:#262626;\" transform=\"translate(25.75 166.320984)scale(0.1 -0.1)\">\n       <use xlink:href=\"#DejaVuSans-48\"/>\n       <use x=\"63.623047\" xlink:href=\"#DejaVuSans-46\"/>\n       <use x=\"95.410156\" xlink:href=\"#DejaVuSans-48\"/>\n      </g>\n     </g>\n    </g>\n    <g id=\"ytick_2\">\n     <g id=\"line2d_8\">\n      <path clip-path=\"url(#p71bf71173d)\" d=\"M 48.653125 124.356746 \nL 327.653125 124.356746 \n\" style=\"fill:none;stroke:#ffffff;stroke-linecap:round;stroke-width:0.8;\"/>\n     </g>\n     <g id=\"text_9\">\n      <!-- 0.2 -->\n      <g style=\"fill:#262626;\" transform=\"translate(25.75 128.155965)scale(0.1 -0.1)\">\n       <use xlink:href=\"#DejaVuSans-48\"/>\n       <use x=\"63.623047\" xlink:href=\"#DejaVuSans-46\"/>\n       <use x=\"95.410156\" xlink:href=\"#DejaVuSans-50\"/>\n      </g>\n     </g>\n    </g>\n    <g id=\"ytick_3\">\n     <g id=\"line2d_9\">\n      <path clip-path=\"url(#p71bf71173d)\" d=\"M 48.653125 86.191728 \nL 327.653125 86.191728 \n\" style=\"fill:none;stroke:#ffffff;stroke-linecap:round;stroke-width:0.8;\"/>\n     </g>\n     <g id=\"text_10\">\n      <!-- 0.4 -->\n      <g style=\"fill:#262626;\" transform=\"translate(25.75 89.990946)scale(0.1 -0.1)\">\n       <use xlink:href=\"#DejaVuSans-48\"/>\n       <use x=\"63.623047\" xlink:href=\"#DejaVuSans-46\"/>\n       <use x=\"95.410156\" xlink:href=\"#DejaVuSans-52\"/>\n      </g>\n     </g>\n    </g>\n    <g id=\"ytick_4\">\n     <g id=\"line2d_10\">\n      <path clip-path=\"url(#p71bf71173d)\" d=\"M 48.653125 48.026709 \nL 327.653125 48.026709 \n\" style=\"fill:none;stroke:#ffffff;stroke-linecap:round;stroke-width:0.8;\"/>\n     </g>\n     <g id=\"text_11\">\n      <!-- 0.6 -->\n      <g style=\"fill:#262626;\" transform=\"translate(25.75 51.825928)scale(0.1 -0.1)\">\n       <use xlink:href=\"#DejaVuSans-48\"/>\n       <use x=\"63.623047\" xlink:href=\"#DejaVuSans-46\"/>\n       <use x=\"95.410156\" xlink:href=\"#DejaVuSans-54\"/>\n      </g>\n     </g>\n    </g>\n    <g id=\"text_12\">\n     <!-- $\\xi$ -->\n     <defs>\n      <path d=\"M 31.5 6.203125 \nQ 37.9375 6.15625 41.0625 2.484375 \nQ 44.4375 -1.375 43.3125 -7.234375 \nQ 42.1875 -12.84375 37.84375 -16.75 \nQ 33.109375 -21 25.140625 -21 \nQ 25.875 -17.328125 26.5625 -13.625 \nQ 29.890625 -13.875 32.375 -11.71875 \nQ 34.28125 -10.015625 34.625 -8.203125 \nQ 35.109375 -5.609375 33.984375 -3.46875 \nQ 32.8125 -1.421875 30.03125 -1.421875 \nQ -0.390625 -1.421875 3.765625 19.921875 \nQ 6.59375 34.578125 23.6875 38.875 \nQ 10.359375 40.625 12.84375 53.328125 \nQ 14.703125 62.9375 26.21875 66.9375 \nL 16.0625 66.9375 \nL 17.828125 75.984375 \nL 56.34375 75.984375 \nL 54.59375 66.9375 \nQ 23.875 66.9375 21.09375 52.734375 \nQ 19.28125 43.40625 45.015625 42.96875 \nL 43.40625 34.671875 \nQ 15.765625 35.75 12.796875 19.921875 \nQ 10.296875 6.6875 31.5 6.203125 \nz\n\" id=\"DejaVuSans-Oblique-958\"/>\n     </defs>\n     <g style=\"fill:#262626;\" transform=\"translate(18.6 99.958125)rotate(-90)scale(0.15 -0.15)\">\n      <use transform=\"translate(0 0.015625)\" xlink:href=\"#DejaVuSans-Oblique-958\"/>\n     </g>\n    </g>\n   </g>\n   <g id=\"line2d_11\">\n    <path clip-path=\"url(#p71bf71173d)\" d=\"M 48.653125 28.994489 \nL 51.443125 35.068438 \nL 54.233125 35.966504 \nL 57.023125 38.62104 \nL 59.813125 41.121288 \nL 62.603125 43.825113 \nL 65.393125 46.802929 \nL 68.183125 49.517293 \nL 70.973125 52.442419 \nL 73.763125 55.376466 \nL 76.553125 59.03855 \nL 79.343125 67.299299 \nL 82.133125 76.295972 \nL 84.923125 88.354033 \nL 87.713125 98.7066 \nL 90.503125 108.057249 \nL 93.293125 116.634446 \nL 96.083125 123.950658 \nL 98.873125 129.871487 \nL 101.663125 135.648931 \nL 104.453125 139.87411 \nL 107.243125 144.059163 \nL 110.033125 147.066463 \nL 112.823125 150.155541 \nL 115.613125 152.355976 \nL 118.403125 154.268811 \nL 121.193125 155.797219 \nL 123.983125 157.077706 \nL 126.773125 158.133458 \nL 129.563125 159.014473 \nL 132.353125 159.724526 \nL 135.143125 160.288905 \nL 137.933125 160.739301 \nL 140.723125 161.09966 \nL 143.513125 161.383602 \nL 146.303125 161.611292 \nL 149.093125 161.796096 \nL 151.883125 161.943144 \nL 154.673125 162.057854 \nL 157.463125 162.147976 \nL 160.253125 162.218891 \nL 163.043125 162.278223 \nL 165.833125 162.322762 \nL 168.623125 162.359231 \nL 171.413125 162.388165 \nL 174.203125 162.412041 \nL 176.993125 162.431493 \nL 179.783125 162.44742 \nL 182.573125 162.46048 \nL 185.363125 162.471275 \nL 188.153125 162.480072 \nL 190.943125 162.48712 \nL 193.733125 162.493023 \nL 196.523125 162.498019 \nL 199.313125 162.502145 \nL 202.103125 162.505526 \nL 204.893125 162.508374 \nL 207.683125 162.510648 \nL 210.473125 162.512537 \nL 213.263125 162.514121 \nL 216.053125 162.51543 \nL 218.843125 162.516576 \nL 221.633125 162.517462 \nL 224.423125 162.518206 \nL 227.213125 162.518807 \nL 230.003125 162.519314 \nL 232.793125 162.519731 \nL 235.583125 162.520078 \nL 238.373125 162.520366 \nL 241.163125 162.520604 \nL 243.953125 162.520802 \nL 246.743125 162.520961 \nL 249.533125 162.521095 \nL 252.323125 162.52121 \nL 255.113125 162.521304 \nL 257.903125 162.521383 \nL 260.693125 162.521449 \nL 263.483125 162.521502 \nL 266.273125 162.521546 \nL 269.063125 162.521583 \nL 271.853125 162.521614 \nL 274.643125 162.521641 \nL 277.433125 162.521662 \nL 280.223125 162.52168 \nL 283.013125 162.521694 \nL 285.803125 162.521706 \nL 288.593125 162.521716 \nL 291.383125 162.521724 \nL 294.173125 162.521731 \nL 296.963125 162.521737 \nL 299.753125 162.521742 \nL 302.543125 162.521746 \nL 305.333125 162.521749 \nL 308.123125 162.521752 \nL 310.913125 162.521754 \nL 313.703125 162.521756 \nL 316.493125 162.521757 \nL 319.283125 162.521759 \nL 322.073125 162.52176 \nL 324.863125 162.521761 \nL 327.653125 162.521761 \n\" style=\"fill:none;stroke:#0000ff;stroke-linecap:round;stroke-width:1.5;\"/>\n   </g>\n   <g id=\"patch_3\">\n    <path d=\"M 48.653125 169.198125 \nL 48.653125 22.318125 \n\" style=\"fill:none;stroke:#ffffff;stroke-linecap:square;stroke-linejoin:miter;stroke-width:0.8;\"/>\n   </g>\n   <g id=\"patch_4\">\n    <path d=\"M 327.653125 169.198125 \nL 327.653125 22.318125 \n\" style=\"fill:none;stroke:#ffffff;stroke-linecap:square;stroke-linejoin:miter;stroke-width:0.8;\"/>\n   </g>\n   <g id=\"patch_5\">\n    <path d=\"M 48.653125 169.198125 \nL 327.653125 169.198125 \n\" style=\"fill:none;stroke:#ffffff;stroke-linecap:square;stroke-linejoin:miter;stroke-width:0.8;\"/>\n   </g>\n   <g id=\"patch_6\">\n    <path d=\"M 48.653125 22.318125 \nL 327.653125 22.318125 \n\" style=\"fill:none;stroke:#ffffff;stroke-linecap:square;stroke-linejoin:miter;stroke-width:0.8;\"/>\n   </g>\n   <g id=\"text_13\">\n    <!-- Decrease of loss over backprop iteration -->\n    <defs>\n     <path d=\"M 19.671875 64.796875 \nL 19.671875 8.109375 \nL 31.59375 8.109375 \nQ 46.6875 8.109375 53.6875 14.9375 \nQ 60.6875 21.78125 60.6875 36.53125 \nQ 60.6875 51.171875 53.6875 57.984375 \nQ 46.6875 64.796875 31.59375 64.796875 \nz\nM 9.8125 72.90625 \nL 30.078125 72.90625 \nQ 51.265625 72.90625 61.171875 64.09375 \nQ 71.09375 55.28125 71.09375 36.53125 \nQ 71.09375 17.671875 61.125 8.828125 \nQ 51.171875 0 30.078125 0 \nL 9.8125 0 \nz\n\" id=\"DejaVuSans-68\"/>\n     <path d=\"M 44.28125 53.078125 \nL 44.28125 44.578125 \nQ 40.484375 46.53125 36.375 47.5 \nQ 32.28125 48.484375 27.875 48.484375 \nQ 21.1875 48.484375 17.84375 46.4375 \nQ 14.5 44.390625 14.5 40.28125 \nQ 14.5 37.15625 16.890625 35.375 \nQ 19.28125 33.59375 26.515625 31.984375 \nL 29.59375 31.296875 \nQ 39.15625 29.25 43.1875 25.515625 \nQ 47.21875 21.78125 47.21875 15.09375 \nQ 47.21875 7.46875 41.1875 3.015625 \nQ 35.15625 -1.421875 24.609375 -1.421875 \nQ 20.21875 -1.421875 15.453125 -0.5625 \nQ 10.6875 0.296875 5.421875 2 \nL 5.421875 11.28125 \nQ 10.40625 8.6875 15.234375 7.390625 \nQ 20.0625 6.109375 24.8125 6.109375 \nQ 31.15625 6.109375 34.5625 8.28125 \nQ 37.984375 10.453125 37.984375 14.40625 \nQ 37.984375 18.0625 35.515625 20.015625 \nQ 33.0625 21.96875 24.703125 23.78125 \nL 21.578125 24.515625 \nQ 13.234375 26.265625 9.515625 29.90625 \nQ 5.8125 33.546875 5.8125 39.890625 \nQ 5.8125 47.609375 11.28125 51.796875 \nQ 16.75 56 26.8125 56 \nQ 31.78125 56 36.171875 55.265625 \nQ 40.578125 54.546875 44.28125 53.078125 \nz\n\" id=\"DejaVuSans-115\"/>\n     <path d=\"M 37.109375 75.984375 \nL 37.109375 68.5 \nL 28.515625 68.5 \nQ 23.6875 68.5 21.796875 66.546875 \nQ 19.921875 64.59375 19.921875 59.515625 \nL 19.921875 54.6875 \nL 34.71875 54.6875 \nL 34.71875 47.703125 \nL 19.921875 47.703125 \nL 19.921875 0 \nL 10.890625 0 \nL 10.890625 47.703125 \nL 2.296875 47.703125 \nL 2.296875 54.6875 \nL 10.890625 54.6875 \nL 10.890625 58.5 \nQ 10.890625 67.625 15.140625 71.796875 \nQ 19.390625 75.984375 28.609375 75.984375 \nz\n\" id=\"DejaVuSans-102\"/>\n     <path d=\"M 9.421875 75.984375 \nL 18.40625 75.984375 \nL 18.40625 0 \nL 9.421875 0 \nz\n\" id=\"DejaVuSans-108\"/>\n     <path d=\"M 2.984375 54.6875 \nL 12.5 54.6875 \nL 29.59375 8.796875 \nL 46.6875 54.6875 \nL 56.203125 54.6875 \nL 35.6875 0 \nL 23.484375 0 \nz\n\" id=\"DejaVuSans-118\"/>\n     <path d=\"M 9.078125 75.984375 \nL 18.109375 75.984375 \nL 18.109375 31.109375 \nL 44.921875 54.6875 \nL 56.390625 54.6875 \nL 27.390625 29.109375 \nL 57.625 0 \nL 45.90625 0 \nL 18.109375 26.703125 \nL 18.109375 0 \nL 9.078125 0 \nz\n\" id=\"DejaVuSans-107\"/>\n     <path d=\"M 18.109375 8.203125 \nL 18.109375 -20.796875 \nL 9.078125 -20.796875 \nL 9.078125 54.6875 \nL 18.109375 54.6875 \nL 18.109375 46.390625 \nQ 20.953125 51.265625 25.265625 53.625 \nQ 29.59375 56 35.59375 56 \nQ 45.5625 56 51.78125 48.09375 \nQ 58.015625 40.1875 58.015625 27.296875 \nQ 58.015625 14.40625 51.78125 6.484375 \nQ 45.5625 -1.421875 35.59375 -1.421875 \nQ 29.59375 -1.421875 25.265625 0.953125 \nQ 20.953125 3.328125 18.109375 8.203125 \nz\nM 48.6875 27.296875 \nQ 48.6875 37.203125 44.609375 42.84375 \nQ 40.53125 48.484375 33.40625 48.484375 \nQ 26.265625 48.484375 22.1875 42.84375 \nQ 18.109375 37.203125 18.109375 27.296875 \nQ 18.109375 17.390625 22.1875 11.75 \nQ 26.265625 6.109375 33.40625 6.109375 \nQ 40.53125 6.109375 44.609375 11.75 \nQ 48.6875 17.390625 48.6875 27.296875 \nz\n\" id=\"DejaVuSans-112\"/>\n    </defs>\n    <g style=\"fill:#262626;\" transform=\"translate(66.50875 16.318125)scale(0.12 -0.12)\">\n     <use xlink:href=\"#DejaVuSans-68\"/>\n     <use x=\"77.001953\" xlink:href=\"#DejaVuSans-101\"/>\n     <use x=\"138.525391\" xlink:href=\"#DejaVuSans-99\"/>\n     <use x=\"193.505859\" xlink:href=\"#DejaVuSans-114\"/>\n     <use x=\"232.369141\" xlink:href=\"#DejaVuSans-101\"/>\n     <use x=\"293.892578\" xlink:href=\"#DejaVuSans-97\"/>\n     <use x=\"355.171875\" xlink:href=\"#DejaVuSans-115\"/>\n     <use x=\"407.271484\" xlink:href=\"#DejaVuSans-101\"/>\n     <use x=\"468.794922\" xlink:href=\"#DejaVuSans-32\"/>\n     <use x=\"500.582031\" xlink:href=\"#DejaVuSans-111\"/>\n     <use x=\"561.763672\" xlink:href=\"#DejaVuSans-102\"/>\n     <use x=\"596.96875\" xlink:href=\"#DejaVuSans-32\"/>\n     <use x=\"628.755859\" xlink:href=\"#DejaVuSans-108\"/>\n     <use x=\"656.539062\" xlink:href=\"#DejaVuSans-111\"/>\n     <use x=\"717.720703\" xlink:href=\"#DejaVuSans-115\"/>\n     <use x=\"769.820312\" xlink:href=\"#DejaVuSans-115\"/>\n     <use x=\"821.919922\" xlink:href=\"#DejaVuSans-32\"/>\n     <use x=\"853.707031\" xlink:href=\"#DejaVuSans-111\"/>\n     <use x=\"914.888672\" xlink:href=\"#DejaVuSans-118\"/>\n     <use x=\"974.068359\" xlink:href=\"#DejaVuSans-101\"/>\n     <use x=\"1035.591797\" xlink:href=\"#DejaVuSans-114\"/>\n     <use x=\"1076.705078\" xlink:href=\"#DejaVuSans-32\"/>\n     <use x=\"1108.492188\" xlink:href=\"#DejaVuSans-98\"/>\n     <use x=\"1171.96875\" xlink:href=\"#DejaVuSans-97\"/>\n     <use x=\"1233.248047\" xlink:href=\"#DejaVuSans-99\"/>\n     <use x=\"1288.228516\" xlink:href=\"#DejaVuSans-107\"/>\n     <use x=\"1346.138672\" xlink:href=\"#DejaVuSans-112\"/>\n     <use x=\"1409.615234\" xlink:href=\"#DejaVuSans-114\"/>\n     <use x=\"1448.478516\" xlink:href=\"#DejaVuSans-111\"/>\n     <use x=\"1509.660156\" xlink:href=\"#DejaVuSans-112\"/>\n     <use x=\"1573.136719\" xlink:href=\"#DejaVuSans-32\"/>\n     <use x=\"1604.923828\" xlink:href=\"#DejaVuSans-105\"/>\n     <use x=\"1632.707031\" xlink:href=\"#DejaVuSans-116\"/>\n     <use x=\"1671.916016\" xlink:href=\"#DejaVuSans-101\"/>\n     <use x=\"1733.439453\" xlink:href=\"#DejaVuSans-114\"/>\n     <use x=\"1774.552734\" xlink:href=\"#DejaVuSans-97\"/>\n     <use x=\"1835.832031\" xlink:href=\"#DejaVuSans-116\"/>\n     <use x=\"1875.041016\" xlink:href=\"#DejaVuSans-105\"/>\n     <use x=\"1902.824219\" xlink:href=\"#DejaVuSans-111\"/>\n     <use x=\"1964.005859\" xlink:href=\"#DejaVuSans-110\"/>\n    </g>\n   </g>\n  </g>\n </g>\n <defs>\n  <clipPath id=\"p71bf71173d\">\n   <rect height=\"146.88\" width=\"279\" x=\"48.653125\" y=\"22.318125\"/>\n  </clipPath>\n </defs>\n</svg>\n"
          },
          "metadata": {}
        }
      ],
      "source": [
        "# Plot the loss over the iterations\n",
        "fig = plt.figure(figsize=(5, 3))\n",
        "plt.plot(ls_of_loss, 'b-')\n",
        "plt.xlabel('minibatch iteration')\n",
        "plt.ylabel('$\\\\xi$', fontsize=15)\n",
        "plt.title('Decrease of loss over backprop iteration')\n",
        "plt.xlim(0, 100)\n",
        "fig.subplots_adjust(bottom=0.2)\n",
        "plt.show()\n",
        "#"
      ]
    },
    {
      "cell_type": "code",
      "execution_count": 51,
      "metadata": {
        "scrolled": false,
        "id": "TVwC2LhGRQKi",
        "outputId": "eb06951e-217d-49e3-b3af-212389b90eb5",
        "colab": {
          "base_uri": "https://localhost:8080/"
        }
      },
      "outputs": [
        {
          "output_type": "stream",
          "name": "stdout",
          "text": [
            "[0. 1. 0. 0. 0. 1. 1.]\n",
            "[0. 0. 1. 1. 1. 1. 1.]\n",
            "[1. 0. 0. 0. 0. 1. 1.]\n",
            "\n",
            "[0. 1. 1. 1. 0. 0. 1.]\n",
            "[0. 0. 1. 1. 1. 1. 1.]\n",
            "[1. 0. 1. 1. 0. 0. 1.]\n",
            "\n",
            "[0. 0. 1. 1. 1. 1. 1.]\n",
            "[0. 0. 1. 1. 1. 1. 1.]\n",
            "[1. 1. 1. 1. 1. 1. 1.]\n",
            "\n",
            "[1. 1. 1. 1. 0. 1. 0.]\n",
            "[0. 0. 1. 1. 1. 1. 1.]\n",
            "[0. 0. 1. 1. 0. 1. 0.]\n",
            "\n",
            "[0. 1. 0. 0. 1. 1. 1.]\n",
            "[0. 0. 1. 1. 1. 1. 1.]\n",
            "[1. 0. 0. 0. 1. 1. 1.]\n",
            "\n"
          ]
        }
      ],
      "source": [
        "# Create test samples\n",
        "nb_test = 5\n",
        "Xtest, Ttest = create_dataset(nb_test, sequence_len)\n",
        "# Push test data through network\n",
        "Y = RNN.getBinaryOutput(Xtest)\n",
        "Yf = RNN.getOutput(Xtest)\n",
        "\n",
        "# Print out all test examples\n",
        "for i in range(Xtest.shape[0]):\n",
        "    print(Xtest[i,:,0])\n",
        "    print(Xtest[i,:,1])\n",
        "    print(Y[i,:,0])\n",
        "    print('')\n",
        "#"
      ]
    }
  ],
  "metadata": {
    "kernelspec": {
      "display_name": "Python 3",
      "language": "python",
      "name": "python3"
    },
    "language_info": {
      "codemirror_mode": {
        "name": "ipython",
        "version": 3
      },
      "file_extension": ".py",
      "mimetype": "text/x-python",
      "name": "python",
      "nbconvert_exporter": "python",
      "pygments_lexer": "ipython3",
      "version": "3.9.4"
    },
    "colab": {
      "name": "rnn-implementation-gustavo.ipynb",
      "provenance": [],
      "collapsed_sections": [],
      "include_colab_link": true
    }
  },
  "nbformat": 4,
  "nbformat_minor": 0
}