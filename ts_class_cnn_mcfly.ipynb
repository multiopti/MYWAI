{
 "cells": [
  {
   "cell_type": "code",
   "execution_count": null,
   "id": "88759ab6",
   "metadata": {},
   "outputs": [],
   "source": [
    "import matplotlib.pyplot as plt\n",
    "import numpy as np\n",
    "import scipy as sp\n",
    "from scipy import signal\n",
    "import sys\n",
    "!{sys.executable} -m pip install scikit-dsp-comm\n",
    "import sk_dsp_comm.sigsys as ss \n",
    "from sklearn.model_selection import train_test_split\n",
    "import mcfly\n",
    "import tensorflow as tf\n",
    "import sys\n",
    "import os\n",
    "import pandas as pd\n",
    "np.random.seed(20)"
   ]
  },
  {
   "cell_type": "code",
   "execution_count": null,
   "id": "fb16a961",
   "metadata": {},
   "outputs": [],
   "source": [
    "def make_patterns_ndim(\n",
    "    number_of_datapoints\n",
    "):\n",
    "    \n",
    "    X = np.zeros([number_of_datapoints,200,1])\n",
    "    S = np.zeros(number_of_datapoints*200)\n",
    "    Y = np.zeros([number_of_datapoints,2])\n",
    "    t = np.linspace(0,200,200)\n",
    "    x1 = ss.rect(t,50)\n",
    "    x2 = ss.rect(t-37.5,25)\n",
    "    x3 = 1 - ss.rect(t-25,50)\n",
    "\n",
    "    for i in range(number_of_datapoints):\n",
    "\n",
    "        if np.random.uniform(-1,1) >= 0:\n",
    "            delay = np.random.randint(200)\n",
    "            x = np.sin(2*np.pi*t/50)\n",
    "            q = np.roll(x,delay)\n",
    "            Y[i,0] = 1\n",
    "            Y[i,1] = 0\n",
    "        else:\n",
    "            delay = np.random.randint(200)\n",
    "            x4 = x3*np.sin(2*np.pi*t/50)\n",
    "            x = x1 - x2 + x4\n",
    "            q = np.roll(x,delay)\n",
    "            Y[i,0] = 0\n",
    "            Y[i,1] = 1\n",
    "           \n",
    "        S[i*200:(i+1)*200] = q\n",
    "\n",
    "        X[i,:,0] = q\n",
    "\n",
    "    return X, Y, S\n",
    "\n",
    "\n",
    "\n"
   ]
  },
  {
   "cell_type": "code",
   "execution_count": null,
   "id": "3c8c3904",
   "metadata": {},
   "outputs": [],
   "source": [
    "X, y, S = make_patterns_ndim(number_of_datapoints=1000)\n",
    "\n",
    "train_ratio = 0.70\n",
    "validation_ratio = 0.1\n",
    "test_ratio = 0.2\n",
    "\n",
    "X_train, X_test, y_train, y_test = train_test_split(X, y, test_size=1 - train_ratio)\n",
    "\n",
    "X_val, X_test, y_val, y_test = train_test_split(X_test, y_test, test_size=test_ratio/(test_ratio + validation_ratio))\n"
   ]
  },
  {
   "cell_type": "code",
   "execution_count": null,
   "id": "cd7d3a94",
   "metadata": {},
   "outputs": [],
   "source": [
    "t = np.linspace(0,200,200)\n",
    "plt.plot(t,X[9,:,0])\n",
    "plt.grid()\n",
    "plt.xlabel('Time (s)')"
   ]
  },
  {
   "cell_type": "code",
   "execution_count": null,
   "id": "f0026286",
   "metadata": {},
   "outputs": [],
   "source": [
    "models = mcfly.modelgen.generate_models(X_train.shape,\n",
    "                                  number_of_output_dimensions=2,\n",
    "                                  number_of_models = 4)"
   ]
  },
  {
   "cell_type": "code",
   "execution_count": null,
   "id": "70981825",
   "metadata": {},
   "outputs": [],
   "source": [
    "models_to_print = range(len(models))\n",
    "for i, item in enumerate(models):\n",
    "    if i in models_to_print:\n",
    "        model, params, model_types = item\n",
    "        print(\"-------------------------------------------------------------------------------------------------------\")\n",
    "        print(\"Model \" + str(i), '\\n')          \n",
    "        print(\"Model type:\", model_types, '\\n')        \n",
    "        print(\"Hyperparameters:\")\n",
    "        print(params)\n",
    "        print(\" \")\n",
    "        print(\"Model description:\")\n",
    "        model.summary()        \n",
    "        print(\" \")"
   ]
  },
  {
   "cell_type": "code",
   "execution_count": null,
   "id": "09afa1fa",
   "metadata": {},
   "outputs": [],
   "source": [
    "# Specify in which directory you want to store the data:\n",
    "directory_to_extract_to = 'put here your path'\n",
    "# Define directory where the results, e.g. json file, will be stored\n",
    "resultpath = os.path.join(directory_to_extract_to, 'data\\\\models')\n",
    "if not os.path.exists(resultpath):\n",
    "        os.makedirs(resultpath)"
   ]
  },
  {
   "cell_type": "code",
   "execution_count": null,
   "id": "22919fb3",
   "metadata": {},
   "outputs": [],
   "source": [
    "outputfile = os.path.join(resultpath, 'modelcomparison.json')\n",
    "histories, val_accuracies, val_losses = mcfly.find_architecture.train_models_on_samples(X_train, y_train,\n",
    "                                                                           X_val, y_val,\n",
    "                                                                           models,nr_epochs=5,\n",
    "                                                                           subset_size=300,\n",
    "                                                                           verbose=True,\n",
    "                                                                           outputfile=outputfile)\n",
    "print('Details of the training process were stored in ',outputfile)"
   ]
  },
  {
   "cell_type": "code",
   "execution_count": null,
   "id": "46fc9e2e",
   "metadata": {},
   "outputs": [],
   "source": [
    "metric = 'accuracy'\n",
    "modelcomparisons = pd.DataFrame({'model':[str(params) for model, params, model_types in models],\n",
    "                       'train_{}'.format(metric): [history.history[metric][-1] for history in histories],\n",
    "                       'train_loss': [history.history['loss'][-1] for history in histories],\n",
    "                       'val_{}'.format(metric): [history.history['val_{}'.format(metric)][-1] for history in histories],\n",
    "                       'val_loss': [history.history['val_loss'][-1] for history in histories]\n",
    "                       })\n",
    "modelcomparisons.to_csv(os.path.join(resultpath, 'modelcomparisons.csv'))\n",
    "\n",
    "modelcomparisons"
   ]
  },
  {
   "cell_type": "code",
   "execution_count": null,
   "id": "7075ffbc",
   "metadata": {},
   "outputs": [],
   "source": [
    "best_model_index = np.argmax(val_accuracies)\n",
    "best_model, best_params, best_model_types = models[best_model_index]\n",
    "print('Model type and parameters of the best model:')\n",
    "print(best_model_types)\n",
    "print(best_params)"
   ]
  },
  {
   "cell_type": "code",
   "execution_count": null,
   "id": "a345d182",
   "metadata": {},
   "outputs": [],
   "source": [
    "#We make a copy of the model, to start training from fresh\n",
    "nr_epochs = 5\n",
    "datasize = X_train.shape[0] #\n",
    "history = best_model.fit(X_train[:datasize,:,:], y_train[:datasize,:],\n",
    "              epochs=nr_epochs, validation_data=(X_val, y_val))"
   ]
  },
  {
   "cell_type": "code",
   "execution_count": null,
   "id": "23d80a7b",
   "metadata": {},
   "outputs": [],
   "source": [
    "modelname = 'my_bestmodel.h5'\n",
    "model_path = os.path.join(resultpath,modelname)"
   ]
  },
  {
   "cell_type": "code",
   "execution_count": null,
   "id": "2412600e",
   "metadata": {},
   "outputs": [],
   "source": [
    "best_model.save(model_path)"
   ]
  },
  {
   "cell_type": "code",
   "execution_count": null,
   "id": "e35858e1",
   "metadata": {},
   "outputs": [],
   "source": [
    "model_reloaded = tf.keras.models.load_model(model_path)\n",
    "np.all([np.all(x==y) for x,y in zip(best_model.get_weights(), model_reloaded.get_weights())])\n"
   ]
  },
  {
   "cell_type": "code",
   "execution_count": null,
   "id": "801334db",
   "metadata": {},
   "outputs": [],
   "source": [
    "## Inspect model predictions on validation data\n",
    "datasize = X_val.shape[0]\n",
    "probs = model_reloaded.predict(X_val[:datasize,:,:],batch_size=1)"
   ]
  },
  {
   "cell_type": "code",
   "execution_count": null,
   "id": "c4da7500",
   "metadata": {},
   "outputs": [],
   "source": [
    "#columns are predicted, rows are truth\n",
    "labels = ['normal', 'anomaly']\n",
    "#columns are predicted, rows are truth\n",
    "predicted = probs.argmax(axis=1)\n",
    "y_index = y_val.argmax(axis=1)\n",
    "confusion_matrix = pd.crosstab(pd.Series(y_index), pd.Series(predicted))\n",
    "confusion_matrix.index = [labels[i] for i in confusion_matrix.index]\n",
    "confusion_matrix.columns = [labels[i] for i in confusion_matrix.columns]\n",
    "confusion_matrix.reindex(columns=[l for l in labels], fill_value=0)\n",
    "confusion_matrix\n"
   ]
  },
  {
   "cell_type": "code",
   "execution_count": null,
   "id": "ae49ccf3",
   "metadata": {},
   "outputs": [],
   "source": [
    "## Test on Testset\n",
    "## Inspect model predictions on validation data\n",
    "datasize = X_test.shape[0]\n",
    "probs = model_reloaded.predict(X_test[:datasize,:,:],batch_size=1)\n",
    "#columns are predicted, rows are truth\n",
    "labels = ['normal', 'anomaly']\n",
    "#columns are predicted, rows are truth\n",
    "predicted = probs.argmax(axis=1)\n",
    "y_index = y_test.argmax(axis=1)\n",
    "confusion_matrix = pd.crosstab(pd.Series(y_index), pd.Series(predicted))\n",
    "confusion_matrix.index = [labels[i] for i in confusion_matrix.index]\n",
    "confusion_matrix.columns = [labels[i] for i in confusion_matrix.columns]\n",
    "confusion_matrix.reindex(columns=[l for l in labels], fill_value=0)\n",
    "confusion_matrix\n"
   ]
  },
  {
   "cell_type": "code",
   "execution_count": null,
   "id": "d2293881",
   "metadata": {},
   "outputs": [],
   "source": []
  }
 ],
 "metadata": {
  "kernelspec": {
   "display_name": "Python 3 (ipykernel)",
   "language": "python",
   "name": "python3"
  },
  "language_info": {
   "codemirror_mode": {
    "name": "ipython",
    "version": 3
   },
   "file_extension": ".py",
   "mimetype": "text/x-python",
   "name": "python",
   "nbconvert_exporter": "python",
   "pygments_lexer": "ipython3",
   "version": "3.10.8"
  }
 },
 "nbformat": 4,
 "nbformat_minor": 5
}
