{
  "nbformat": 4,
  "nbformat_minor": 0,
  "metadata": {
    "colab": {
      "provenance": []
    },
    "kernelspec": {
      "name": "python3",
      "display_name": "Python 3"
    },
    "language_info": {
      "name": "python"
    }
  },
  "cells": [
    {
      "cell_type": "code",
      "execution_count": null,
      "metadata": {
        "id": "Wa5RVgYboZ3C"
      },
      "outputs": [],
      "source": [
        "import numpy as np\n",
        "import matplotlib.pyplot as plt\n",
        "import sys\n",
        "!{sys.executable} -m pip install sktime[dl]\n",
        "from sktime.forecasting.model_selection import SlidingWindowSplitter\n",
        "from sktime.classification.kernel_based import RocketClassifier\n",
        "from sklearn.metrics import accuracy_score\n",
        "from matplotlib import pyplot as plt\n",
        "\n"
      ]
    },
    {
      "cell_type": "code",
      "source": [
        "def find_dominant_value(array):\n",
        "    unique, counts = np.unique(array, return_counts=True)\n",
        "    count_dict = dict(zip(unique, counts))\n",
        "    return 0 if count_dict.get(0, 0) > count_dict.get(1, 0) else 1\n",
        "\n",
        "def sawtooth_signal(A, f, t):\n",
        "    T = 1 / f\n",
        "    return  A * (t / T - np.floor(t / T))\n",
        "\n",
        "def square_signal(A, f, t):\n",
        "    T = 1 / f\n",
        "    return 0.5*A + 0.5 * A * np.where(np.sin(2 * np.pi * f * t) > 0, 1, -1)\n",
        "\n",
        "def random_signal(A, f, t, window_size):\n",
        "    signal = np.zeros(len(t))\n",
        "    labels = np.zeros(len(t))\n",
        "    num_windows = int(len(t) // window_size)\n",
        "    for i in range(num_windows):\n",
        "        start = i * window_size\n",
        "        end = (i + 1) * window_size\n",
        "        if np.random.random() > 0.5:\n",
        "            signal[start:end] = square_signal(A, f, t[start:end])\n",
        "            labels[start:end] = 0\n",
        "        else:\n",
        "            signal[start:end] = sawtooth_signal(A, f, t[start:end])\n",
        "            labels[start:end] = 1\n",
        "    return signal,labels"
      ],
      "metadata": {
        "id": "NqB4wTrkWeBX"
      },
      "execution_count": null,
      "outputs": []
    },
    {
      "cell_type": "code",
      "source": [
        "t = np.linspace(0, 400*np.pi, 40000)\n",
        "s,l = random_signal(2, 0.25, t, 200)\n",
        "\n",
        "fig, axs = plt.subplots(2, 1, figsize=(10, 8), sharex=True)\n",
        "axs[0].plot(t[0:1000], s[0:1000])\n",
        "axs[0].set_title(\"Signal\")\n",
        "axs[1].plot(t[0:1000], l[0:1000])\n",
        "axs[1].set_title(\"Labels\")\n",
        "plt.tight_layout()\n",
        "plt.show()"
      ],
      "metadata": {
        "id": "q-D-bFjLWl1N"
      },
      "execution_count": null,
      "outputs": []
    },
    {
      "cell_type": "code",
      "source": [
        "winlen = 200\n",
        "step = 200\n",
        "splitter = SlidingWindowSplitter(window_length=winlen, step_length=step)\n",
        "\n",
        "evlen = len(t)\n",
        "#logger.info(f\"event {evlen}\")\n",
        "S = splitter.split(np.arange(evlen))\n",
        "Ns = splitter.get_n_splits(np.arange(evlen))\n",
        "L = list(S)\n",
        "X = np.zeros([Ns, 1, winlen])\n",
        "Y = np.zeros([Ns])\n",
        "for j in range(Ns):\n",
        "    X[j,0,:] = s[L[j][0]]\n",
        "    Y[j] = find_dominant_value(l[L[j][0]])"
      ],
      "metadata": {
        "id": "-VShc9SFXC72"
      },
      "execution_count": null,
      "outputs": []
    },
    {
      "cell_type": "code",
      "source": [
        "train_X =  X[0:150,0,:]\n",
        "test_X =  X[150:199,0,:]\n",
        "train_y = Y[0:150]\n",
        "test_y = Y[150:199]\n",
        "rocket = RocketClassifier(num_kernels=5)\n",
        "rocket.fit(train_X, train_y)\n",
        "y_pred = rocket.predict(test_X)\n",
        "\n",
        "print(accuracy_score(test_y, y_pred))\n"
      ],
      "metadata": {
        "id": "a-KDoxKRXIn9"
      },
      "execution_count": null,
      "outputs": []
    }
  ]
}